{
 "cells": [
  {
   "cell_type": "code",
   "execution_count": 68,
   "id": "f4d012d0",
   "metadata": {},
   "outputs": [],
   "source": [
    "import csv\n",
    "from collections import Counter\n",
    "with open('data.csv', 'r', newline='') as data:\n",
    "    data_reader=csv.reader(data, delimiter='\t')\n",
    "    list_data=list(data_reader)"
   ]
  },
  {
   "cell_type": "code",
   "execution_count": null,
   "id": "82a0bde3",
   "metadata": {},
   "outputs": [],
   "source": [
    "def pregunta_03():\n",
    "    dic={}\n",
    "    for i in dic:\n",
    "        dic[i[0]]=dic[]"
   ]
  },
  {
   "cell_type": "code",
   "execution_count": 75,
   "id": "f1acce83",
   "metadata": {},
   "outputs": [],
   "source": [
    "def pregunta_02():\n",
    "    lista=[]\n",
    "    length=len(list_data)\n",
    "    for i in range(length):\n",
    "        lista.append(list_data[i][0])\n",
    "    return(sorted(Counter(lista).most_common(len(lista))))"
   ]
  },
  {
   "cell_type": "code",
   "execution_count": 77,
   "id": "61eefb99",
   "metadata": {},
   "outputs": [
    {
     "name": "stdout",
     "output_type": "stream",
     "text": [
      "['E', 'A', 'B', 'C', 'D']\n"
     ]
    }
   ],
   "source": [
    "print(lista)"
   ]
  }
 ],
 "metadata": {
  "kernelspec": {
   "display_name": "Python 3 (ipykernel)",
   "language": "python",
   "name": "python3"
  },
  "language_info": {
   "codemirror_mode": {
    "name": "ipython",
    "version": 3
   },
   "file_extension": ".py",
   "mimetype": "text/x-python",
   "name": "python",
   "nbconvert_exporter": "python",
   "pygments_lexer": "ipython3",
   "version": "3.7.10"
  }
 },
 "nbformat": 4,
 "nbformat_minor": 5
}
