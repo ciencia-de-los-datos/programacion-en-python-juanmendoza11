{
 "cells": [
  {
   "cell_type": "code",
   "execution_count": 33,
   "id": "26f2f893",
   "metadata": {},
   "outputs": [],
   "source": [
    "import csv\n",
    "with open('data.csv', 'r', newline='') as data:\n",
    "    data_reader=csv.reader(data, delimiter='\t')\n",
    "    list_data=list(data_reader)"
   ]
  },
  {
   "cell_type": "code",
   "execution_count": 2,
   "id": "d24284f5",
   "metadata": {},
   "outputs": [],
   "source": [
    "def pregunta_01():\n",
    "    suma=0\n",
    "    lenght=len(list_data)\n",
    "    for i in range(lenght):\n",
    "        suma+=int(list_data[i][1])\n",
    "    return(suma)"
   ]
  },
  {
   "cell_type": "code",
   "execution_count": 3,
   "id": "b8adaab4",
   "metadata": {},
   "outputs": [
    {
     "name": "stdout",
     "output_type": "stream",
     "text": [
      "214\n"
     ]
    }
   ],
   "source": [
    "print(pregunta_01())"
   ]
  },
  {
   "cell_type": "code",
   "execution_count": 14,
   "id": "4363c2ed",
   "metadata": {},
   "outputs": [
    {
     "name": "stdout",
     "output_type": "stream",
     "text": [
      "('a', 'b', 'b', 'c', 'c', 'c')\n"
     ]
    },
    {
     "data": {
      "text/plain": [
       "3"
      ]
     },
     "execution_count": 14,
     "metadata": {},
     "output_type": "execute_result"
    }
   ],
   "source": [
    "letters_tuple = (\"a\", \"b\", \"b\", \"c\", \"c\", \"c\")\n",
    "print(letters_tuple)\n",
    "letters_tuple.count(\"c\")"
   ]
  },
  {
   "cell_type": "code",
   "execution_count": 82,
   "id": "07769f37",
   "metadata": {},
   "outputs": [],
   "source": [
    "from collections import Counter\n",
    "def pregunta_02():\n",
    "    lista=[]\n",
    "    length=len(list_data)\n",
    "    for i in range(length):\n",
    "        lista.append(list_data[i][0])\n",
    "        #Counter(list_data[i][0]).most_common(2)\n",
    "    #return(lista)\n",
    "    return(sorted(Counter(lista).most_common(length)))"
   ]
  },
  {
   "cell_type": "code",
   "execution_count": 83,
   "id": "3a1c942e",
   "metadata": {},
   "outputs": [
    {
     "name": "stdout",
     "output_type": "stream",
     "text": [
      "[('A', 8), ('B', 7), ('C', 5), ('D', 6), ('E', 14)]\n"
     ]
    }
   ],
   "source": [
    "print(pregunta_02())"
   ]
  }
 ],
 "metadata": {
  "kernelspec": {
   "display_name": "Python 3 (ipykernel)",
   "language": "python",
   "name": "python3"
  },
  "language_info": {
   "codemirror_mode": {
    "name": "ipython",
    "version": 3
   },
   "file_extension": ".py",
   "mimetype": "text/x-python",
   "name": "python",
   "nbconvert_exporter": "python",
   "pygments_lexer": "ipython3",
   "version": "3.7.10"
  }
 },
 "nbformat": 4,
 "nbformat_minor": 5
}
