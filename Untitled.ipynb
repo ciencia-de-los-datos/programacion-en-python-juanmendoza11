{
 "cells": [
  {
   "cell_type": "code",
   "execution_count": 115,
   "id": "2dda23d3",
   "metadata": {},
   "outputs": [],
   "source": [
    "data=open('data.csv', 'r').readlines()\n",
    "data=[i.replace('\\n', '') for i in data]\n",
    "data=[i.split('\\t') for i in data]\n",
    "\n",
    "from collections import Counter\n",
    "import csv\n",
    "with open('data.csv', 'r', newline='') as data:\n",
    "    data_reader=csv.reader(data, delimiter='\\t')\n",
    "    list_data=list(data_reader)"
   ]
  },
  {
   "cell_type": "code",
   "execution_count": 394,
   "id": "74e101ca",
   "metadata": {},
   "outputs": [
    {
     "name": "stdout",
     "output_type": "stream",
     "text": [
      "[['E', '1', '1999-02-28', 'b,g,f', 'jjj:12,bbb:3,ddd:9,ggg:8,hhh:2'], ['A', '2', '1999-10-28', 'a,f,c', 'ccc:2,ddd:0,aaa:3,hhh:9'], ['B', '5', '1998-05-02', 'f,e,a,c', 'ddd:2,ggg:5,ccc:6,jjj:12'], ['A', '3', '1999-08-28', 'a,b', 'hhh:9,iii:5,eee:7,bbb:1'], ['C', '6', '1999-12-01', 'f,g,d,a', 'iii:6,ddd:5,eee:4,jjj:12'], ['A', '7', '1998-07-28', 'c,d', 'bbb:2,hhh:0,ccc:4,fff:1,aaa:7'], ['A', '9', '1997-02-28', 'g,d,a', 'aaa:5,fff:8,ddd:2,iii:0,jjj:7,ccc:1'], ['B', '1', '1999-05-10', 'b,a', 'fff:3,hhh:1,ddd:2'], ['E', '2', '1997-04-12', 'd,e,a,f', 'eee:4,ccc:5,iii:9,fff:7,ggg:6,bbb:2'], ['B', '3', '1999-11-23', 'd,b,g,f', 'bbb:7,jjj:9,fff:5,iii:4,ggg:3,eee:3'], ['C', '7', '1998-01-17', 'd,c,f,b', 'hhh:6,eee:4,iii:0,fff:2,jjj:12'], ['C', '5', '1998-12-28', 'd,e,a,c', 'bbb:7,iii:6,ggg:9'], ['D', '3', '1999-10-15', 'g,e,f,b', 'bbb:9,aaa:3,ccc:6,fff:4,eee:2'], ['E', '8', '1998-11-01', 'c,f', 'aaa:8,ddd:5,jjj:12'], ['B', '9', '1999-08-12', 'd,b', 'ccc:7,jjj:6,fff:7,ddd:3,aaa:2'], ['D', '8', '1997-12-01', 'f,e', 'ccc:8,eee:6,bbb:9,ddd:3'], ['E', '3', '1997-07-28', 'e,b,f', 'bbb:6,iii:3,hhh:5,fff:4,ggg:9,ddd:2'], ['D', '5', '1998-08-12', 'g,a', 'hhh:4,jjj:5,ccc:9'], ['E', '8', '1999-08-24', 'e,c,f,a', 'ccc:1,iii:6,fff:9'], ['E', '9', '1998-01-23', 'e,a', 'bbb:9,aaa:3,fff:1'], ['E', '7', '1999-06-22', 'e,f', 'ddd:9,iii:2,aaa:4'], ['E', '3', '1999-04-24', 'c,b,g', 'ccc:5,fff:8,iii:7'], ['D', '5', '1999-06-25', 'c,f,a', 'eee:3,jjj:17,ddd:7'], ['A', '9', '1999-08-25', 'f,a,d', 'jjj:12,ggg:7,ccc:7,ddd:9,bbb:3'], ['E', '4', '1997-07-26', 'c,d', 'jjj:6,ccc:4,aaa:1,hhh:9,iii:7,ggg:8'], ['E', '6', '1997-09-24', 'e,d,c', 'fff:3,eee:6,iii:4,bbb:7,ddd:4,ccc:1'], ['A', '8', '1997-09-28', 'a,e,f', 'fff:0,ddd:5,ccc:4'], ['E', '5', '1999-06-22', 'c,a,g', 'ggg:6,hhh:3,ddd:9,ccc:10,jjj:7'], ['A', '6', '1999-07-29', 'f,e', 'hhh:6,jjj:13,eee:5,iii:7,ccc:3'], ['C', '0', '1999-08-22', 'f,c,a,g', 'eee:1,fff:4,aaa:2,ccc:7,ggg:10,ddd:6'], ['A', '9', '1998-04-26', 'b,f', 'ccc:6,aaa:9,eee:5,ddd:0,bbb:3'], ['D', '3', '1998-02-24', 'b,f', 'bbb:7,hhh:1,aaa:6,iii:4,fff:9,ddd:5'], ['E', '5', '1999-03-24', 'a,c', 'fff:3,ccc:1,ggg:3,eee:5'], ['B', '4', '1998-03-23', 'b,f,c', 'iii:7,ggg:3,ddd:0,jjj:8,hhh:5,ccc:1'], ['B', '6', '1999-04-21', 'f,a,e', 'hhh:6,ccc:3,jjj:9,bbb:8,ddd:7'], ['D', '7', '1999-02-29', 'a,f', 'aaa:1,fff:5,ddd:3'], ['B', '8', '1997-05-21', 'c,a', 'ddd:5,jjj:17,iii:7,ccc:10,bbb:4'], ['C', '9', '1997-07-22', 'c,a,e,f', 'eee:3,fff:2,hhh:6'], ['E', '1', '1999-09-28', 'e,d', 'fff:9,iii:2,eee:5'], ['E', '5', '1998-01-26', 'f,a,d', 'hhh:8,ggg:3,jjj:5']]\n"
     ]
    }
   ],
   "source": [
    "from collections import Counter\n",
    "import csv\n",
    "with open('data.csv', 'r', newline='') as data:\n",
    "    data_reader=csv.reader(data, delimiter='\\t')\n",
    "    list_data=list(data_reader)\n",
    "print(list_data)\n"
   ]
  },
  {
   "cell_type": "code",
   "execution_count": 402,
   "id": "2fad5e52",
   "metadata": {},
   "outputs": [],
   "source": [
    "def pregunta_03():\n",
    "    lista=[]\n",
    "    length=len(list_data)\n",
    "    for i in range(length):\n",
    "        lista.append(list_data[i][2][5:7])\n",
    "    return(sorted(Counter(lista).most_common(len(lista))))"
   ]
  },
  {
   "cell_type": "code",
   "execution_count": 403,
   "id": "80746c0b",
   "metadata": {},
   "outputs": [
    {
     "name": "stdout",
     "output_type": "stream",
     "text": [
      "[('01', 3), ('02', 4), ('03', 2), ('04', 4), ('05', 3), ('06', 3), ('07', 5), ('08', 6), ('09', 3), ('10', 2), ('11', 2), ('12', 3)]\n"
     ]
    }
   ],
   "source": [
    "print(pregunta_03())"
   ]
  },
  {
   "cell_type": "code",
   "execution_count": 6,
   "id": "d0fa6629",
   "metadata": {},
   "outputs": [
    {
     "name": "stdout",
     "output_type": "stream",
     "text": [
      "Counter({'08': 6, '07': 5, '02': 4, '04': 4, '05': 3, '12': 3, '01': 3, '06': 3, '09': 3, '10': 2, '11': 2, '03': 2})\n"
     ]
    }
   ],
   "source": [
    "from collections import Counter\n",
    "import csv\n",
    "with open('data.csv', 'r', newline='') as data:\n",
    "    data_reader=csv.reader(data, delimiter='\\t')\n",
    "    list_data=list(data_reader)\n",
    "\n",
    "def pregunta_04():\n",
    "    \"\"\"\n",
    "    La columna 3 contiene una fecha en formato `YYYY-MM-DD`. Retorne la cantidad de\n",
    "    registros por cada mes, tal como se muestra a continuación.\n",
    "\n",
    "    Rta/\n",
    "    [\n",
    "        (\"01\", 3),\n",
    "        (\"02\", 4),\n",
    "        (\"03\", 2),\n",
    "        (\"04\", 4),\n",
    "        (\"05\", 3),\n",
    "        (\"06\", 3),\n",
    "        (\"07\", 5),\n",
    "        (\"08\", 6),\n",
    "        (\"09\", 3),\n",
    "        (\"10\", 2),\n",
    "        (\"11\", 2),\n",
    "        (\"12\", 3),\n",
    "    ]\n",
    "\n",
    "    \"\"\"\n",
    "    lista=[]\n",
    "    length=len(list_data)\n",
    "    for i in range(length):\n",
    "        lista.append(list_data[i][2][5:7])\n",
    "    return(sorted(Counter(lista).most_common(len(lista))))\n",
    "    #return(Counter(lista))\n",
    "           \n",
    "print(pregunta_04())"
   ]
  },
  {
   "cell_type": "code",
   "execution_count": 85,
   "id": "e2512945",
   "metadata": {},
   "outputs": [],
   "source": [
    "def pregunta_05():\n",
    "    \"\"\"\n",
    "    Retorne una lista de tuplas con el valor maximo y minimo de la columna 2 por cada\n",
    "    letra de la columa 1.\n",
    "\n",
    "    Rta/\n",
    "    [\n",
    "        (\"A\", 9, 2),\n",
    "        (\"B\", 9, 1),\n",
    "        (\"C\", 9, 0),\n",
    "        (\"D\", 8, 3),\n",
    "        (\"E\", 9, 1),\n",
    "    ]\n",
    "\n",
    "    \"\"\"\n",
    "    dic=dict()\n",
    "    for i in data:\n",
    "        if i[0] not in list(dic.keys()):\n",
    "            dic[i[0]]=[int(i[1])]\n",
    "        elif i[0] in list(dic.keys()):\n",
    "            dic[i[0]].append(int(i[1]))\n",
    "    \n",
    "    result=[(j,max(dic[j]),min(dic[j])) for j in dic.keys()]\n",
    "    result.sort(key = lambda x: x[0], reverse=False)\n",
    "    return result"
   ]
  },
  {
   "cell_type": "code",
   "execution_count": 258,
   "id": "34690c7f",
   "metadata": {},
   "outputs": [],
   "source": [
    "def pregunta_06():\n",
    "    lista=[]\n",
    "    dic=dict()\n",
    "    length=len(data)\n",
    "    for i in range(length):\n",
    "        lista.extend(data[i][4].split(','))\n",
    "        for j in lista:\n",
    "            clave=j.split(':')[0]\n",
    "            valor=j.split(':')[1]\n",
    "            if clave not in list(dic.keys()):\n",
    "                dic[clave]=[int(valor)]\n",
    "            elif clave in list(dic.keys()):\n",
    "                dic[clave].append(int(valor))\n",
    "    result=[(k,min(dic[k]),max(dic[k])) for k in dic.keys()]\n",
    "    result.sort(key = lambda x: x[0], reverse=False)\n",
    "    return result"
   ]
  },
  {
   "cell_type": "code",
   "execution_count": 259,
   "id": "df3592d7",
   "metadata": {},
   "outputs": [
    {
     "name": "stdout",
     "output_type": "stream",
     "text": [
      "[('aaa', 1, 9), ('bbb', 1, 9), ('ccc', 1, 10), ('ddd', 0, 9), ('eee', 1, 7), ('fff', 0, 9), ('ggg', 3, 10), ('hhh', 0, 9), ('iii', 0, 9), ('jjj', 5, 17)]\n"
     ]
    }
   ],
   "source": [
    "print(pregunta_06())"
   ]
  },
  {
   "cell_type": "code",
   "execution_count": 90,
   "id": "455212c5",
   "metadata": {},
   "outputs": [
    {
     "name": "stdout",
     "output_type": "stream",
     "text": [
      "['E', '1', '1999-02-28', 'b,g,f', 'jjj:12,bbb:3,ddd:9,ggg:8,hhh:2']\n",
      "['A', '2', '1999-10-28', 'a,f,c', 'ccc:2,ddd:0,aaa:3,hhh:9']\n",
      "['B', '5', '1998-05-02', 'f,e,a,c', 'ddd:2,ggg:5,ccc:6,jjj:12']\n",
      "['A', '3', '1999-08-28', 'a,b', 'hhh:9,iii:5,eee:7,bbb:1']\n",
      "['C', '6', '1999-12-01', 'f,g,d,a', 'iii:6,ddd:5,eee:4,jjj:12']\n",
      "['A', '7', '1998-07-28', 'c,d', 'bbb:2,hhh:0,ccc:4,fff:1,aaa:7']\n",
      "['A', '9', '1997-02-28', 'g,d,a', 'aaa:5,fff:8,ddd:2,iii:0,jjj:7,ccc:1']\n",
      "['B', '1', '1999-05-10', 'b,a', 'fff:3,hhh:1,ddd:2']\n",
      "['E', '2', '1997-04-12', 'd,e,a,f', 'eee:4,ccc:5,iii:9,fff:7,ggg:6,bbb:2']\n",
      "['B', '3', '1999-11-23', 'd,b,g,f', 'bbb:7,jjj:9,fff:5,iii:4,ggg:3,eee:3']\n",
      "['C', '7', '1998-01-17', 'd,c,f,b', 'hhh:6,eee:4,iii:0,fff:2,jjj:12']\n",
      "['C', '5', '1998-12-28', 'd,e,a,c', 'bbb:7,iii:6,ggg:9']\n",
      "['D', '3', '1999-10-15', 'g,e,f,b', 'bbb:9,aaa:3,ccc:6,fff:4,eee:2']\n",
      "['E', '8', '1998-11-01', 'c,f', 'aaa:8,ddd:5,jjj:12']\n",
      "['B', '9', '1999-08-12', 'd,b', 'ccc:7,jjj:6,fff:7,ddd:3,aaa:2']\n",
      "['D', '8', '1997-12-01', 'f,e', 'ccc:8,eee:6,bbb:9,ddd:3']\n",
      "['E', '3', '1997-07-28', 'e,b,f', 'bbb:6,iii:3,hhh:5,fff:4,ggg:9,ddd:2']\n",
      "['D', '5', '1998-08-12', 'g,a', 'hhh:4,jjj:5,ccc:9']\n",
      "['E', '8', '1999-08-24', 'e,c,f,a', 'ccc:1,iii:6,fff:9']\n",
      "['E', '9', '1998-01-23', 'e,a', 'bbb:9,aaa:3,fff:1']\n",
      "['E', '7', '1999-06-22', 'e,f', 'ddd:9,iii:2,aaa:4']\n",
      "['E', '3', '1999-04-24', 'c,b,g', 'ccc:5,fff:8,iii:7']\n",
      "['D', '5', '1999-06-25', 'c,f,a', 'eee:3,jjj:17,ddd:7']\n",
      "['A', '9', '1999-08-25', 'f,a,d', 'jjj:12,ggg:7,ccc:7,ddd:9,bbb:3']\n",
      "['E', '4', '1997-07-26', 'c,d', 'jjj:6,ccc:4,aaa:1,hhh:9,iii:7,ggg:8']\n",
      "['E', '6', '1997-09-24', 'e,d,c', 'fff:3,eee:6,iii:4,bbb:7,ddd:4,ccc:1']\n",
      "['A', '8', '1997-09-28', 'a,e,f', 'fff:0,ddd:5,ccc:4']\n",
      "['E', '5', '1999-06-22', 'c,a,g', 'ggg:6,hhh:3,ddd:9,ccc:10,jjj:7']\n",
      "['A', '6', '1999-07-29', 'f,e', 'hhh:6,jjj:13,eee:5,iii:7,ccc:3']\n",
      "['C', '0', '1999-08-22', 'f,c,a,g', 'eee:1,fff:4,aaa:2,ccc:7,ggg:10,ddd:6']\n",
      "['A', '9', '1998-04-26', 'b,f', 'ccc:6,aaa:9,eee:5,ddd:0,bbb:3']\n",
      "['D', '3', '1998-02-24', 'b,f', 'bbb:7,hhh:1,aaa:6,iii:4,fff:9,ddd:5']\n",
      "['E', '5', '1999-03-24', 'a,c', 'fff:3,ccc:1,ggg:3,eee:5']\n",
      "['B', '4', '1998-03-23', 'b,f,c', 'iii:7,ggg:3,ddd:0,jjj:8,hhh:5,ccc:1']\n",
      "['B', '6', '1999-04-21', 'f,a,e', 'hhh:6,ccc:3,jjj:9,bbb:8,ddd:7']\n",
      "['D', '7', '1999-02-29', 'a,f', 'aaa:1,fff:5,ddd:3']\n",
      "['B', '8', '1997-05-21', 'c,a', 'ddd:5,jjj:17,iii:7,ccc:10,bbb:4']\n",
      "['C', '9', '1997-07-22', 'c,a,e,f', 'eee:3,fff:2,hhh:6']\n",
      "['E', '1', '1999-09-28', 'e,d', 'fff:9,iii:2,eee:5']\n",
      "['E', '5', '1998-01-26', 'f,a,d', 'hhh:8,ggg:3,jjj:5']\n"
     ]
    }
   ],
   "source": [
    "data=open('data.csv', 'r').readlines()\n",
    "data=[i.replace('\\n', '') for i in data]\n",
    "data=[i.split('\\t') for i in data]\n",
    "for i in data:\n",
    "    print(i)"
   ]
  },
  {
   "cell_type": "code",
   "execution_count": 214,
   "id": "724847c1",
   "metadata": {},
   "outputs": [],
   "source": [
    "def pregunta_06():\n",
    "\n",
    "    \"\"\"\n",
    "    La columna 5 codifica un diccionario donde cada cadena de tres letras corresponde a\n",
    "    una clave y el valor despues del caracter `:` corresponde al valor asociado a la\n",
    "    clave. Por cada clave, obtenga el valor asociado mas pequeño y el valor asociado mas\n",
    "    grande computados sobre todo el archivo.\n",
    "    Rta/\n",
    "    [\n",
    "        (\"aaa\", 1, 9),\n",
    "        (\"bbb\", 1, 9),\n",
    "        (\"ccc\", 1, 10),\n",
    "        (\"ddd\", 0, 9),\n",
    "        (\"eee\", 1, 7),\n",
    "        (\"fff\", 0, 9),\n",
    "        (\"ggg\", 3, 10),\n",
    "        (\"hhh\", 0, 9),\n",
    "        (\"iii\", 0, 9),\n",
    "        (\"jjj\", 5, 17),\n",
    "    ]\n",
    "    \"\"\"\n",
    "    x = open('data.csv', 'r').readlines()\n",
    "    x = [i.replace('\\n', '') for i in x]\n",
    "    x = [i.split('\\t') for i in x]\n",
    "    \n",
    "    lista = []\n",
    "    for a in [i[4].split(',') for i in x]:\n",
    "        lista.append(a)\n",
    "        return lista"
   ]
  },
  {
   "cell_type": "code",
   "execution_count": 215,
   "id": "4b735154",
   "metadata": {},
   "outputs": [
    {
     "name": "stdout",
     "output_type": "stream",
     "text": [
      "[['jjj:12', 'bbb:3', 'ddd:9', 'ggg:8', 'hhh:2']]\n"
     ]
    }
   ],
   "source": [
    "print(pregunta_06())"
   ]
  },
  {
   "cell_type": "code",
   "execution_count": 260,
   "id": "22c36948",
   "metadata": {},
   "outputs": [
    {
     "name": "stdout",
     "output_type": "stream",
     "text": [
      "['E', '1', '1999-02-28', 'b,g,f', 'jjj:12,bbb:3,ddd:9,ggg:8,hhh:2']\n",
      "['A', '2', '1999-10-28', 'a,f,c', 'ccc:2,ddd:0,aaa:3,hhh:9']\n",
      "['B', '5', '1998-05-02', 'f,e,a,c', 'ddd:2,ggg:5,ccc:6,jjj:12']\n",
      "['A', '3', '1999-08-28', 'a,b', 'hhh:9,iii:5,eee:7,bbb:1']\n",
      "['C', '6', '1999-12-01', 'f,g,d,a', 'iii:6,ddd:5,eee:4,jjj:12']\n",
      "['A', '7', '1998-07-28', 'c,d', 'bbb:2,hhh:0,ccc:4,fff:1,aaa:7']\n",
      "['A', '9', '1997-02-28', 'g,d,a', 'aaa:5,fff:8,ddd:2,iii:0,jjj:7,ccc:1']\n",
      "['B', '1', '1999-05-10', 'b,a', 'fff:3,hhh:1,ddd:2']\n",
      "['E', '2', '1997-04-12', 'd,e,a,f', 'eee:4,ccc:5,iii:9,fff:7,ggg:6,bbb:2']\n",
      "['B', '3', '1999-11-23', 'd,b,g,f', 'bbb:7,jjj:9,fff:5,iii:4,ggg:3,eee:3']\n",
      "['C', '7', '1998-01-17', 'd,c,f,b', 'hhh:6,eee:4,iii:0,fff:2,jjj:12']\n",
      "['C', '5', '1998-12-28', 'd,e,a,c', 'bbb:7,iii:6,ggg:9']\n",
      "['D', '3', '1999-10-15', 'g,e,f,b', 'bbb:9,aaa:3,ccc:6,fff:4,eee:2']\n",
      "['E', '8', '1998-11-01', 'c,f', 'aaa:8,ddd:5,jjj:12']\n",
      "['B', '9', '1999-08-12', 'd,b', 'ccc:7,jjj:6,fff:7,ddd:3,aaa:2']\n",
      "['D', '8', '1997-12-01', 'f,e', 'ccc:8,eee:6,bbb:9,ddd:3']\n",
      "['E', '3', '1997-07-28', 'e,b,f', 'bbb:6,iii:3,hhh:5,fff:4,ggg:9,ddd:2']\n",
      "['D', '5', '1998-08-12', 'g,a', 'hhh:4,jjj:5,ccc:9']\n",
      "['E', '8', '1999-08-24', 'e,c,f,a', 'ccc:1,iii:6,fff:9']\n",
      "['E', '9', '1998-01-23', 'e,a', 'bbb:9,aaa:3,fff:1']\n",
      "['E', '7', '1999-06-22', 'e,f', 'ddd:9,iii:2,aaa:4']\n",
      "['E', '3', '1999-04-24', 'c,b,g', 'ccc:5,fff:8,iii:7']\n",
      "['D', '5', '1999-06-25', 'c,f,a', 'eee:3,jjj:17,ddd:7']\n",
      "['A', '9', '1999-08-25', 'f,a,d', 'jjj:12,ggg:7,ccc:7,ddd:9,bbb:3']\n",
      "['E', '4', '1997-07-26', 'c,d', 'jjj:6,ccc:4,aaa:1,hhh:9,iii:7,ggg:8']\n",
      "['E', '6', '1997-09-24', 'e,d,c', 'fff:3,eee:6,iii:4,bbb:7,ddd:4,ccc:1']\n",
      "['A', '8', '1997-09-28', 'a,e,f', 'fff:0,ddd:5,ccc:4']\n",
      "['E', '5', '1999-06-22', 'c,a,g', 'ggg:6,hhh:3,ddd:9,ccc:10,jjj:7']\n",
      "['A', '6', '1999-07-29', 'f,e', 'hhh:6,jjj:13,eee:5,iii:7,ccc:3']\n",
      "['C', '0', '1999-08-22', 'f,c,a,g', 'eee:1,fff:4,aaa:2,ccc:7,ggg:10,ddd:6']\n",
      "['A', '9', '1998-04-26', 'b,f', 'ccc:6,aaa:9,eee:5,ddd:0,bbb:3']\n",
      "['D', '3', '1998-02-24', 'b,f', 'bbb:7,hhh:1,aaa:6,iii:4,fff:9,ddd:5']\n",
      "['E', '5', '1999-03-24', 'a,c', 'fff:3,ccc:1,ggg:3,eee:5']\n",
      "['B', '4', '1998-03-23', 'b,f,c', 'iii:7,ggg:3,ddd:0,jjj:8,hhh:5,ccc:1']\n",
      "['B', '6', '1999-04-21', 'f,a,e', 'hhh:6,ccc:3,jjj:9,bbb:8,ddd:7']\n",
      "['D', '7', '1999-02-29', 'a,f', 'aaa:1,fff:5,ddd:3']\n",
      "['B', '8', '1997-05-21', 'c,a', 'ddd:5,jjj:17,iii:7,ccc:10,bbb:4']\n",
      "['C', '9', '1997-07-22', 'c,a,e,f', 'eee:3,fff:2,hhh:6']\n",
      "['E', '1', '1999-09-28', 'e,d', 'fff:9,iii:2,eee:5']\n",
      "['E', '5', '1998-01-26', 'f,a,d', 'hhh:8,ggg:3,jjj:5']\n"
     ]
    }
   ],
   "source": [
    "data=open('data.csv', 'r').readlines()\n",
    "data=[i.replace('\\n', '') for i in data]\n",
    "data=[i.split('\\t') for i in data]\n",
    "for i in data:\n",
    "    print(i)"
   ]
  },
  {
   "cell_type": "code",
   "execution_count": 377,
   "id": "43ad78f7",
   "metadata": {},
   "outputs": [],
   "source": [
    "def pregunta_07():\n",
    "    \"\"\"\n",
    "    Retorne una lista de tuplas que asocien las columnas 0 y 1. Cada tupla contiene un\n",
    "    valor posible de la columna 2 y una lista con todas las letras asociadas (columna 1)\n",
    "    a dicho valor de la columna 2.\n",
    "\n",
    "    Rta/\n",
    "    [\n",
    "        (0, [\"C\"]),\n",
    "        (1, [\"E\", \"B\", \"E\"]),\n",
    "        (2, [\"A\", \"E\"]),\n",
    "        (3, [\"A\", \"B\", \"D\", \"E\", \"E\", \"D\"]),\n",
    "        (4, [\"E\", \"B\"]),\n",
    "        (5, [\"B\", \"C\", \"D\", \"D\", \"E\", \"E\", \"E\"]),\n",
    "        (6, [\"C\", \"E\", \"A\", \"B\"]),\n",
    "        (7, [\"A\", \"C\", \"E\", \"D\"]),\n",
    "        (8, [\"E\", \"D\", \"E\", \"A\", \"B\"]),\n",
    "        (9, [\"A\", \"B\", \"E\", \"A\", \"A\", \"C\"]),\n",
    "    ]\n",
    "\n",
    "    \"\"\"\n",
    "    dic=dict()\n",
    "    for i in data:\n",
    "        if int(i[1]) not in dic.keys():\n",
    "            dic[int(i[1])]=[str(i[0])]\n",
    "        else:\n",
    "            dic[int(i[1])].append(str(i[0]))\n",
    "        \n",
    "    result = list(dic.items())\n",
    "    result.sort()\n",
    "    return result"
   ]
  },
  {
   "cell_type": "code",
   "execution_count": 378,
   "id": "cfd9721b",
   "metadata": {},
   "outputs": [
    {
     "name": "stdout",
     "output_type": "stream",
     "text": [
      "{'1': ['E', 'B', 'E'], '2': ['A', 'E'], '5': ['B', 'C', 'D', 'D', 'E', 'E', 'E'], '3': ['A', 'B', 'D', 'E', 'E', 'D'], '6': ['C', 'E', 'A', 'B'], '7': ['A', 'C', 'E', 'D'], '9': ['A', 'B', 'E', 'A', 'A', 'C'], '8': ['E', 'D', 'E', 'A', 'B'], '4': ['E', 'B'], '0': ['C']}\n"
     ]
    }
   ],
   "source": [
    "print(pregunta_05())"
   ]
  }
 ],
 "metadata": {
  "kernelspec": {
   "display_name": "Python 3 (ipykernel)",
   "language": "python",
   "name": "python3"
  },
  "language_info": {
   "codemirror_mode": {
    "name": "ipython",
    "version": 3
   },
   "file_extension": ".py",
   "mimetype": "text/x-python",
   "name": "python",
   "nbconvert_exporter": "python",
   "pygments_lexer": "ipython3",
   "version": "3.7.10"
  }
 },
 "nbformat": 4,
 "nbformat_minor": 5
}
