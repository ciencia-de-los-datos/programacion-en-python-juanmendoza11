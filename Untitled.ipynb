{
 "cells": [
  {
   "cell_type": "code",
   "execution_count": 175,
   "id": "5b2e76ab",
   "metadata": {},
   "outputs": [
    {
     "ename": "TypeError",
     "evalue": "'_csv.reader' object is not subscriptable",
     "output_type": "error",
     "traceback": [
      "\u001b[1;31m---------------------------------------------------------------------------\u001b[0m",
      "\u001b[1;31mTypeError\u001b[0m                                 Traceback (most recent call last)",
      "\u001b[1;32m~\\AppData\\Local\\Temp/ipykernel_30712/2500280793.py\u001b[0m in \u001b[0;36m<module>\u001b[1;34m\u001b[0m\n\u001b[0;32m      2\u001b[0m \u001b[1;32mwith\u001b[0m \u001b[0mopen\u001b[0m\u001b[1;33m(\u001b[0m\u001b[1;34m'data.csv'\u001b[0m\u001b[1;33m,\u001b[0m \u001b[1;34m'r'\u001b[0m\u001b[1;33m,\u001b[0m \u001b[0mnewline\u001b[0m\u001b[1;33m=\u001b[0m\u001b[1;34m''\u001b[0m\u001b[1;33m)\u001b[0m \u001b[1;32mas\u001b[0m \u001b[0mdata\u001b[0m\u001b[1;33m:\u001b[0m\u001b[1;33m\u001b[0m\u001b[1;33m\u001b[0m\u001b[0m\n\u001b[0;32m      3\u001b[0m     \u001b[0mdata_reader\u001b[0m\u001b[1;33m=\u001b[0m\u001b[0mcsv\u001b[0m\u001b[1;33m.\u001b[0m\u001b[0mreader\u001b[0m\u001b[1;33m(\u001b[0m\u001b[0mdata\u001b[0m\u001b[1;33m,\u001b[0m \u001b[0mdelimiter\u001b[0m\u001b[1;33m=\u001b[0m\u001b[1;34m'    '\u001b[0m\u001b[1;33m)\u001b[0m\u001b[1;33m\u001b[0m\u001b[1;33m\u001b[0m\u001b[0m\n\u001b[1;32m----> 4\u001b[1;33m     \u001b[0mprint\u001b[0m\u001b[1;33m(\u001b[0m\u001b[0mdata_reader\u001b[0m\u001b[1;33m[\u001b[0m\u001b[1;36m0\u001b[0m\u001b[1;33m]\u001b[0m\u001b[1;33m)\u001b[0m\u001b[1;33m\u001b[0m\u001b[1;33m\u001b[0m\u001b[0m\n\u001b[0m",
      "\u001b[1;31mTypeError\u001b[0m: '_csv.reader' object is not subscriptable"
     ]
    }
   ],
   "source": [
    "import csv\n",
    "with open('data.csv', 'r', newline='') as data:\n",
    "    data_reader=csv.reader(data, delimiter='\t')\n",
    "    print(data_reader[0])"
   ]
  },
  {
   "cell_type": "code",
   "execution_count": 186,
   "id": "1b872fef",
   "metadata": {},
   "outputs": [],
   "source": [
    "def pregunta_03():\n",
    "    \"\"\"\n",
    "    Retorne la suma de la columna 2 por cada letra de la primera columna como una lista\n",
    "    de tuplas (letra, suma) ordendas alfabeticamente.\n",
    "    Rta/\n",
    "    [\n",
    "        (\"A\", 53),\n",
    "        (\"B\", 36),\n",
    "        (\"C\", 27),\n",
    "        (\"D\", 31),\n",
    "        (\"E\", 67),\n",
    "    ]\n",
    "    \"\"\"\n",
    "\n",
    "    import csv\n",
    "\n",
    "    tupla = dict()\n",
    "\n",
    "    with open('data.csv','r', newline='') as data:\n",
    "        data_reader = csv.reader(data, delimiter='\\t')\n",
    "\n",
    "        for registro in data_reader:\n",
    "            if registro[0] in tupla:\n",
    "                tupla[registro[0]] += int(registro[1])\n",
    "            else:\n",
    "                tupla[registro[0]] = int(registro[1])\n",
    "\n",
    "    listaTuplas = list(tupla.items())\n",
    "    listaTuplas.sort(key = lambda x: x[0])\n",
    "\n",
    "    return tupla"
   ]
  },
  {
   "cell_type": "code",
   "execution_count": 187,
   "id": "6d75a13d",
   "metadata": {},
   "outputs": [
    {
     "name": "stdout",
     "output_type": "stream",
     "text": [
      "{'E': 67, 'A': 53, 'B': 36, 'C': 27, 'D': 31}\n"
     ]
    }
   ],
   "source": [
    "print(pregunta_03())"
   ]
  },
  {
   "cell_type": "code",
   "execution_count": 163,
   "id": "d15f4262",
   "metadata": {},
   "outputs": [],
   "source": [
    "import csv\n",
    "from collections import Counter\n",
    "with open('data.csv', 'r', newline='') as data:\n",
    "    data_reader=csv.reader(data, delimiter='\t')\n",
    "    list_data=list(data_reader)\n"
   ]
  },
  {
   "cell_type": "code",
   "execution_count": 164,
   "id": "0aeaaa37",
   "metadata": {},
   "outputs": [
    {
     "data": {
      "text/plain": [
       "5"
      ]
     },
     "execution_count": 164,
     "metadata": {},
     "output_type": "execute_result"
    }
   ],
   "source": [
    "len(lista)"
   ]
  },
  {
   "cell_type": "code",
   "execution_count": 180,
   "id": "eb1d97c5",
   "metadata": {},
   "outputs": [
    {
     "name": "stdout",
     "output_type": "stream",
     "text": [
      "['E', '1', '1999-02-28', 'b,g,f', 'jjj:12,bbb:3,ddd:9,ggg:8,hhh:2']\n"
     ]
    }
   ],
   "source": [
    "x = open('data.csv', 'r').readlines()\n",
    "x = [i.replace('\\n', '') for i in x]\n",
    "x = [i.split('\\t') for i in x]\n",
    "print(x[0])"
   ]
  }
 ],
 "metadata": {
  "kernelspec": {
   "display_name": "Python 3 (ipykernel)",
   "language": "python",
   "name": "python3"
  },
  "language_info": {
   "codemirror_mode": {
    "name": "ipython",
    "version": 3
   },
   "file_extension": ".py",
   "mimetype": "text/x-python",
   "name": "python",
   "nbconvert_exporter": "python",
   "pygments_lexer": "ipython3",
   "version": "3.7.10"
  }
 },
 "nbformat": 4,
 "nbformat_minor": 5
}
