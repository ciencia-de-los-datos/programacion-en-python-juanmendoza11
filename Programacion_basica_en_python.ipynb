{
 "cells": [
  {
   "cell_type": "code",
   "execution_count": 60,
   "id": "b5afa07f",
   "metadata": {},
   "outputs": [
    {
     "name": "stdout",
     "output_type": "stream",
     "text": [
      "214\n"
     ]
    }
   ],
   "source": [
    "suma=0\n",
    "lenght=len(list_data)\n",
    "import csv\n",
    "\n",
    "with open('data.csv', 'r', newline='') as data:\n",
    "    data_reader=csv.reader(data, delimiter='\t')\n",
    "    list_data=list(data_reader)\n",
    "\n",
    "\n",
    "for i in range(lenght):\n",
    "    suma+=int(list_data[i][1])\n",
    "print(suma)"
   ]
  },
  {
   "cell_type": "code",
   "execution_count": 79,
   "id": "96e3d263",
   "metadata": {},
   "outputs": [],
   "source": [
    "def pregunta_01():\n",
    "    suma=0\n",
    "    lenght=len(list_data)\n",
    "    for i in range(lenght):\n",
    "        suma+=int(list_data[i][1])\n",
    "    return(suma)"
   ]
  },
  {
   "cell_type": "code",
   "execution_count": 80,
   "id": "7d5af8c6",
   "metadata": {},
   "outputs": [
    {
     "name": "stdout",
     "output_type": "stream",
     "text": [
      "214\n"
     ]
    }
   ],
   "source": [
    "print(pregunta_01())"
   ]
  }
 ],
 "metadata": {
  "kernelspec": {
   "display_name": "Python 3 (ipykernel)",
   "language": "python",
   "name": "python3"
  },
  "language_info": {
   "codemirror_mode": {
    "name": "ipython",
    "version": 3
   },
   "file_extension": ".py",
   "mimetype": "text/x-python",
   "name": "python",
   "nbconvert_exporter": "python",
   "pygments_lexer": "ipython3",
   "version": "3.7.10"
  }
 },
 "nbformat": 4,
 "nbformat_minor": 5
}
